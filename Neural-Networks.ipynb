{
 "cells": [
  {
   "cell_type": "code",
   "execution_count": 1,
   "metadata": {},
   "outputs": [],
   "source": [
    "import pandas as pd\n",
    "import numpy as np\n",
    "from sklearn.preprocessing import LabelEncoder\n",
    "from keras.models import Sequential\n",
    "from keras.layers import Dense, Conv1D, MaxPooling1D, Flatten\n",
    "from sklearn.metrics import confusion_matrix, ConfusionMatrixDisplay, accuracy_score, f1_score, precision_score, recall_score, roc_auc_score"
   ]
  },
  {
   "cell_type": "code",
   "execution_count": 2,
   "metadata": {},
   "outputs": [
    {
     "name": "stdout",
     "output_type": "stream",
     "text": [
      "Train Length: 1760, Test Length: 440\n"
     ]
    }
   ],
   "source": [
    "#Load Pre-Processed Train / Test Data\n",
    "\n",
    "train_df = pd.read_csv('Train-Data.csv')\n",
    "test_df = pd.read_csv('Test-Data.csv')\n",
    "\n",
    "print(f'Train Length: {len(train_df)}, Test Length: {len(test_df)}')"
   ]
  },
  {
   "cell_type": "code",
   "execution_count": 3,
   "metadata": {},
   "outputs": [],
   "source": [
    "#Prepare Data For ML input\n",
    "trainx = np.array(train_df.iloc[:,:-1].values.tolist())\n",
    "trainy = np.array(train_df['label'].tolist())\n",
    "\n",
    "testx = np.array(test_df.iloc[:,:-1].values.tolist())\n",
    "testy = np.array(test_df['label'].tolist())"
   ]
  },
  {
   "cell_type": "code",
   "execution_count": 4,
   "metadata": {},
   "outputs": [
    {
     "name": "stdout",
     "output_type": "stream",
     "text": [
      "Trainx: (1760, 7), Trainy: (1760,)\n",
      "Testx: (440, 7), Testy: (440,)\n"
     ]
    }
   ],
   "source": [
    "#Validate Correct Input Shapes\n",
    "print(f'Trainx: {trainx.shape}, Trainy: {trainy.shape}')\n",
    "print(f'Testx: {testx.shape}, Testy: {testy.shape}')"
   ]
  },
  {
   "cell_type": "code",
   "execution_count": 5,
   "metadata": {},
   "outputs": [],
   "source": [
    "#Encode Classification Labels\n",
    "le = LabelEncoder()\n",
    "\n",
    "le.fit(trainy)\n",
    "\n",
    "trainy = le.transform(trainy)\n",
    "testy = le.transform(testy)"
   ]
  },
  {
   "cell_type": "code",
   "execution_count": 6,
   "metadata": {},
   "outputs": [],
   "source": [
    "#Build Fully Connected Neural Network Model\n",
    "FCNN = Sequential()\n",
    "FCNN.add(Dense(32, input_dim=7, activation='relu'))\n",
    "FCNN.add(Dense(64, activation='relu'))\n",
    "FCNN.add(Dense(22, activation='softmax'))\n",
    "FCNN.compile(optimizer='adam', loss='sparse_categorical_crossentropy', metrics=['accuracy'])"
   ]
  },
  {
   "cell_type": "code",
   "execution_count": 7,
   "metadata": {},
   "outputs": [
    {
     "name": "stdout",
     "output_type": "stream",
     "text": [
      "Model: \"sequential\"\n",
      "_________________________________________________________________\n",
      " Layer (type)                Output Shape              Param #   \n",
      "=================================================================\n",
      " dense (Dense)               (None, 32)                256       \n",
      "                                                                 \n",
      " dense_1 (Dense)             (None, 64)                2112      \n",
      "                                                                 \n",
      " dense_2 (Dense)             (None, 22)                1430      \n",
      "                                                                 \n",
      "=================================================================\n",
      "Total params: 3,798\n",
      "Trainable params: 3,798\n",
      "Non-trainable params: 0\n",
      "_________________________________________________________________\n"
     ]
    }
   ],
   "source": [
    "FCNN.summary()"
   ]
  },
  {
   "cell_type": "code",
   "execution_count": 8,
   "metadata": {},
   "outputs": [
    {
     "name": "stdout",
     "output_type": "stream",
     "text": [
      "Epoch 1/50\n",
      "55/55 [==============================] - 0s 730us/step - loss: 9.6847 - accuracy: 0.1608\n",
      "Epoch 2/50\n",
      "55/55 [==============================] - 0s 652us/step - loss: 1.0857 - accuracy: 0.6534\n",
      "Epoch 3/50\n",
      "55/55 [==============================] - 0s 643us/step - loss: 0.5023 - accuracy: 0.8369\n",
      "Epoch 4/50\n",
      "55/55 [==============================] - 0s 671us/step - loss: 0.3612 - accuracy: 0.8949\n",
      "Epoch 5/50\n",
      "55/55 [==============================] - 0s 680us/step - loss: 0.3084 - accuracy: 0.9062\n",
      "Epoch 6/50\n",
      "55/55 [==============================] - 0s 661us/step - loss: 0.2572 - accuracy: 0.9205\n",
      "Epoch 7/50\n",
      "55/55 [==============================] - 0s 661us/step - loss: 0.2199 - accuracy: 0.9369\n",
      "Epoch 8/50\n",
      "55/55 [==============================] - 0s 661us/step - loss: 0.2068 - accuracy: 0.9426\n",
      "Epoch 9/50\n",
      "55/55 [==============================] - 0s 652us/step - loss: 0.2081 - accuracy: 0.9364\n",
      "Epoch 10/50\n",
      "55/55 [==============================] - 0s 671us/step - loss: 0.1947 - accuracy: 0.9460\n",
      "Epoch 11/50\n",
      "55/55 [==============================] - 0s 652us/step - loss: 0.1690 - accuracy: 0.9455\n",
      "Epoch 12/50\n",
      "55/55 [==============================] - 0s 657us/step - loss: 0.1796 - accuracy: 0.9364\n",
      "Epoch 13/50\n",
      "55/55 [==============================] - 0s 661us/step - loss: 0.1466 - accuracy: 0.9574\n",
      "Epoch 14/50\n",
      "55/55 [==============================] - 0s 661us/step - loss: 0.1467 - accuracy: 0.9523\n",
      "Epoch 15/50\n",
      "55/55 [==============================] - 0s 661us/step - loss: 0.1432 - accuracy: 0.9551\n",
      "Epoch 16/50\n",
      "55/55 [==============================] - 0s 652us/step - loss: 0.1461 - accuracy: 0.9489\n",
      "Epoch 17/50\n",
      "55/55 [==============================] - 0s 643us/step - loss: 0.1398 - accuracy: 0.9540\n",
      "Epoch 18/50\n",
      "55/55 [==============================] - 0s 652us/step - loss: 0.1282 - accuracy: 0.9597\n",
      "Epoch 19/50\n",
      "55/55 [==============================] - 0s 643us/step - loss: 0.1431 - accuracy: 0.9517\n",
      "Epoch 20/50\n",
      "55/55 [==============================] - 0s 643us/step - loss: 0.1948 - accuracy: 0.9455\n",
      "Epoch 21/50\n",
      "55/55 [==============================] - 0s 634us/step - loss: 0.1260 - accuracy: 0.9670\n",
      "Epoch 22/50\n",
      "55/55 [==============================] - 0s 643us/step - loss: 0.1141 - accuracy: 0.9688\n",
      "Epoch 23/50\n",
      "55/55 [==============================] - 0s 634us/step - loss: 0.1103 - accuracy: 0.9619\n",
      "Epoch 24/50\n",
      "55/55 [==============================] - 0s 634us/step - loss: 0.1082 - accuracy: 0.9688\n",
      "Epoch 25/50\n",
      "55/55 [==============================] - 0s 680us/step - loss: 0.1113 - accuracy: 0.9585\n",
      "Epoch 26/50\n",
      "55/55 [==============================] - 0s 753us/step - loss: 0.1143 - accuracy: 0.9642\n",
      "Epoch 27/50\n",
      "55/55 [==============================] - 0s 634us/step - loss: 0.1255 - accuracy: 0.9580\n",
      "Epoch 28/50\n",
      "55/55 [==============================] - 0s 634us/step - loss: 0.1035 - accuracy: 0.9597\n",
      "Epoch 29/50\n",
      "55/55 [==============================] - 0s 625us/step - loss: 0.1048 - accuracy: 0.9619\n",
      "Epoch 30/50\n",
      "55/55 [==============================] - 0s 625us/step - loss: 0.1184 - accuracy: 0.9585\n",
      "Epoch 31/50\n",
      "55/55 [==============================] - 0s 625us/step - loss: 0.1221 - accuracy: 0.9551\n",
      "Epoch 32/50\n",
      "55/55 [==============================] - 0s 634us/step - loss: 0.1129 - accuracy: 0.9602\n",
      "Epoch 33/50\n",
      "55/55 [==============================] - 0s 634us/step - loss: 0.1083 - accuracy: 0.9631\n",
      "Epoch 34/50\n",
      "55/55 [==============================] - 0s 634us/step - loss: 0.0932 - accuracy: 0.9693\n",
      "Epoch 35/50\n",
      "55/55 [==============================] - 0s 634us/step - loss: 0.1055 - accuracy: 0.9636\n",
      "Epoch 36/50\n",
      "55/55 [==============================] - 0s 634us/step - loss: 0.0908 - accuracy: 0.9688\n",
      "Epoch 37/50\n",
      "55/55 [==============================] - 0s 625us/step - loss: 0.1087 - accuracy: 0.9642\n",
      "Epoch 38/50\n",
      "55/55 [==============================] - 0s 643us/step - loss: 0.0957 - accuracy: 0.9653\n",
      "Epoch 39/50\n",
      "55/55 [==============================] - 0s 634us/step - loss: 0.0922 - accuracy: 0.9699\n",
      "Epoch 40/50\n",
      "55/55 [==============================] - 0s 634us/step - loss: 0.1106 - accuracy: 0.9597\n",
      "Epoch 41/50\n",
      "55/55 [==============================] - 0s 634us/step - loss: 0.1013 - accuracy: 0.9648\n",
      "Epoch 42/50\n",
      "55/55 [==============================] - 0s 634us/step - loss: 0.0895 - accuracy: 0.9693\n",
      "Epoch 43/50\n",
      "55/55 [==============================] - 0s 643us/step - loss: 0.0812 - accuracy: 0.9688\n",
      "Epoch 44/50\n",
      "55/55 [==============================] - 0s 671us/step - loss: 0.0799 - accuracy: 0.9705\n",
      "Epoch 45/50\n",
      "55/55 [==============================] - 0s 634us/step - loss: 0.0873 - accuracy: 0.9665\n",
      "Epoch 46/50\n",
      "55/55 [==============================] - 0s 625us/step - loss: 0.0894 - accuracy: 0.9682\n",
      "Epoch 47/50\n",
      "55/55 [==============================] - 0s 625us/step - loss: 0.1026 - accuracy: 0.9602\n",
      "Epoch 48/50\n",
      "55/55 [==============================] - 0s 634us/step - loss: 0.1193 - accuracy: 0.9545\n",
      "Epoch 49/50\n",
      "55/55 [==============================] - 0s 625us/step - loss: 0.0898 - accuracy: 0.9659\n",
      "Epoch 50/50\n",
      "55/55 [==============================] - 0s 625us/step - loss: 0.0999 - accuracy: 0.9597\n"
     ]
    },
    {
     "data": {
      "text/plain": [
       "<keras.callbacks.History at 0x24135bf9c60>"
      ]
     },
     "execution_count": 8,
     "metadata": {},
     "output_type": "execute_result"
    }
   ],
   "source": [
    "FCNN.fit(trainx, trainy, epochs=50, batch_size=32)"
   ]
  },
  {
   "cell_type": "code",
   "execution_count": 9,
   "metadata": {},
   "outputs": [
    {
     "name": "stdout",
     "output_type": "stream",
     "text": [
      "14/14 [==============================] - 0s 534us/step\n"
     ]
    }
   ],
   "source": [
    "FCNN_Preds = FCNN.predict(testx)\n",
    "FCNN_Preds = np.array([np.argmax(i) for i in FCNN_Preds])"
   ]
  },
  {
   "cell_type": "code",
   "execution_count": 10,
   "metadata": {},
   "outputs": [],
   "source": [
    "def get_performance_metrics(preds):\n",
    "    metrics = {}\n",
    "    metrics['acc'] = accuracy_score(testy, preds)\n",
    "    metrics['prec'] = precision_score(testy, preds, average='macro')\n",
    "    metrics['rec'] = recall_score(testy, preds, average='macro')\n",
    "    metrics['f1'] = f1_score(testy, preds, average='macro')\n",
    "    metrics['cm'] = confusion_matrix(testy, preds)\n",
    "    return metrics"
   ]
  },
  {
   "cell_type": "code",
   "execution_count": 11,
   "metadata": {},
   "outputs": [
    {
     "name": "stdout",
     "output_type": "stream",
     "text": [
      "0.9431818181818182\n"
     ]
    }
   ],
   "source": [
    "FCNN_Metrics = get_performance_metrics(FCNN_Preds)\n",
    "print(FCNN_Metrics['acc'])"
   ]
  },
  {
   "cell_type": "code",
   "execution_count": 12,
   "metadata": {},
   "outputs": [],
   "source": [
    "#Build CNN\n",
    "CNN = Sequential()\n",
    "CNN.add(Conv1D(filters=32, kernel_size=3, input_shape=(7, 1), activation='relu'))\n",
    "CNN.add(Flatten())\n",
    "CNN.add(Dense(128, activation='relu'))\n",
    "CNN.add(Dense(22, activation='softmax'))\n",
    "CNN.compile(optimizer='adam', loss='sparse_categorical_crossentropy', metrics=['accuracy'])"
   ]
  },
  {
   "cell_type": "code",
   "execution_count": 13,
   "metadata": {},
   "outputs": [
    {
     "name": "stdout",
     "output_type": "stream",
     "text": [
      "Epoch 1/50\n",
      "55/55 [==============================] - 0s 772us/step - loss: 3.2136 - accuracy: 0.4472\n",
      "Epoch 2/50\n",
      "55/55 [==============================] - 0s 762us/step - loss: 0.4029 - accuracy: 0.8875\n",
      "Epoch 3/50\n",
      "55/55 [==============================] - 0s 744us/step - loss: 0.2327 - accuracy: 0.9364\n",
      "Epoch 4/50\n",
      "55/55 [==============================] - 0s 735us/step - loss: 0.1831 - accuracy: 0.9506\n",
      "Epoch 5/50\n",
      "55/55 [==============================] - 0s 744us/step - loss: 0.1584 - accuracy: 0.9511\n",
      "Epoch 6/50\n",
      "55/55 [==============================] - 0s 744us/step - loss: 0.1496 - accuracy: 0.9511\n",
      "Epoch 7/50\n",
      "55/55 [==============================] - 0s 744us/step - loss: 0.1766 - accuracy: 0.9335\n",
      "Epoch 8/50\n",
      "55/55 [==============================] - 0s 964us/step - loss: 0.1897 - accuracy: 0.9443\n",
      "Epoch 9/50\n",
      "55/55 [==============================] - 0s 753us/step - loss: 0.1423 - accuracy: 0.9563\n",
      "Epoch 10/50\n",
      "55/55 [==============================] - 0s 762us/step - loss: 0.1401 - accuracy: 0.9477\n",
      "Epoch 11/50\n",
      "55/55 [==============================] - 0s 744us/step - loss: 0.1404 - accuracy: 0.9551\n",
      "Epoch 12/50\n",
      "55/55 [==============================] - 0s 744us/step - loss: 0.1037 - accuracy: 0.9659\n",
      "Epoch 13/50\n",
      "55/55 [==============================] - 0s 744us/step - loss: 0.1158 - accuracy: 0.9585\n",
      "Epoch 14/50\n",
      "55/55 [==============================] - 0s 762us/step - loss: 0.1224 - accuracy: 0.9591\n",
      "Epoch 15/50\n",
      "55/55 [==============================] - 0s 744us/step - loss: 0.0965 - accuracy: 0.9665\n",
      "Epoch 16/50\n",
      "55/55 [==============================] - 0s 744us/step - loss: 0.0925 - accuracy: 0.9750\n",
      "Epoch 17/50\n",
      "55/55 [==============================] - 0s 753us/step - loss: 0.1170 - accuracy: 0.9534\n",
      "Epoch 18/50\n",
      "55/55 [==============================] - 0s 744us/step - loss: 0.1093 - accuracy: 0.9653\n",
      "Epoch 19/50\n",
      "55/55 [==============================] - 0s 753us/step - loss: 0.0943 - accuracy: 0.9659\n",
      "Epoch 20/50\n",
      "55/55 [==============================] - 0s 744us/step - loss: 0.1041 - accuracy: 0.9597\n",
      "Epoch 21/50\n",
      "55/55 [==============================] - 0s 735us/step - loss: 0.0969 - accuracy: 0.9653\n",
      "Epoch 22/50\n",
      "55/55 [==============================] - 0s 735us/step - loss: 0.0836 - accuracy: 0.9659\n",
      "Epoch 23/50\n",
      "55/55 [==============================] - 0s 744us/step - loss: 0.0788 - accuracy: 0.9699\n",
      "Epoch 24/50\n",
      "55/55 [==============================] - 0s 735us/step - loss: 0.1040 - accuracy: 0.9619\n",
      "Epoch 25/50\n",
      "55/55 [==============================] - 0s 744us/step - loss: 0.0902 - accuracy: 0.9670\n",
      "Epoch 26/50\n",
      "55/55 [==============================] - 0s 744us/step - loss: 0.0926 - accuracy: 0.9659\n",
      "Epoch 27/50\n",
      "55/55 [==============================] - 0s 744us/step - loss: 0.0826 - accuracy: 0.9699\n",
      "Epoch 28/50\n",
      "55/55 [==============================] - 0s 735us/step - loss: 0.0922 - accuracy: 0.9670\n",
      "Epoch 29/50\n",
      "55/55 [==============================] - 0s 744us/step - loss: 0.0778 - accuracy: 0.9710\n",
      "Epoch 30/50\n",
      "55/55 [==============================] - 0s 744us/step - loss: 0.0799 - accuracy: 0.9710\n",
      "Epoch 31/50\n",
      "55/55 [==============================] - 0s 735us/step - loss: 0.0831 - accuracy: 0.9688\n",
      "Epoch 32/50\n",
      "55/55 [==============================] - 0s 753us/step - loss: 0.0854 - accuracy: 0.9699\n",
      "Epoch 33/50\n",
      "55/55 [==============================] - 0s 744us/step - loss: 0.0861 - accuracy: 0.9653\n",
      "Epoch 34/50\n",
      "55/55 [==============================] - 0s 762us/step - loss: 0.0841 - accuracy: 0.9705\n",
      "Epoch 35/50\n",
      "55/55 [==============================] - 0s 744us/step - loss: 0.0682 - accuracy: 0.9750\n",
      "Epoch 36/50\n",
      "55/55 [==============================] - 0s 753us/step - loss: 0.0749 - accuracy: 0.9710\n",
      "Epoch 37/50\n",
      "55/55 [==============================] - 0s 744us/step - loss: 0.0790 - accuracy: 0.9727\n",
      "Epoch 38/50\n",
      "55/55 [==============================] - 0s 744us/step - loss: 0.0821 - accuracy: 0.9693\n",
      "Epoch 39/50\n",
      "55/55 [==============================] - 0s 744us/step - loss: 0.0800 - accuracy: 0.9722\n",
      "Epoch 40/50\n",
      "55/55 [==============================] - 0s 891us/step - loss: 0.0825 - accuracy: 0.9670\n",
      "Epoch 41/50\n",
      "55/55 [==============================] - 0s 744us/step - loss: 0.0811 - accuracy: 0.9716\n",
      "Epoch 42/50\n",
      "55/55 [==============================] - 0s 753us/step - loss: 0.0717 - accuracy: 0.9727\n",
      "Epoch 43/50\n",
      "55/55 [==============================] - 0s 735us/step - loss: 0.0706 - accuracy: 0.9727\n",
      "Epoch 44/50\n",
      "55/55 [==============================] - 0s 753us/step - loss: 0.0679 - accuracy: 0.9733\n",
      "Epoch 45/50\n",
      "55/55 [==============================] - 0s 744us/step - loss: 0.0703 - accuracy: 0.9716\n",
      "Epoch 46/50\n",
      "55/55 [==============================] - 0s 744us/step - loss: 0.0766 - accuracy: 0.9716\n",
      "Epoch 47/50\n",
      "55/55 [==============================] - 0s 744us/step - loss: 0.0614 - accuracy: 0.9756\n",
      "Epoch 48/50\n",
      "55/55 [==============================] - 0s 753us/step - loss: 0.0892 - accuracy: 0.9659\n",
      "Epoch 49/50\n",
      "55/55 [==============================] - 0s 753us/step - loss: 0.0910 - accuracy: 0.9693\n",
      "Epoch 50/50\n",
      "55/55 [==============================] - 0s 753us/step - loss: 0.0786 - accuracy: 0.9693\n"
     ]
    },
    {
     "data": {
      "text/plain": [
       "<keras.callbacks.History at 0x24134a09ed0>"
      ]
     },
     "execution_count": 13,
     "metadata": {},
     "output_type": "execute_result"
    }
   ],
   "source": [
    "trainx_reshaped = trainx.reshape(trainx.shape[0], 7, 1)\n",
    "testx_reshaped = testx.reshape(testx.shape[0], 7, 1)\n",
    "CNN.fit(trainx_reshaped, trainy, epochs=50, batch_size=32)"
   ]
  },
  {
   "cell_type": "code",
   "execution_count": 14,
   "metadata": {},
   "outputs": [
    {
     "name": "stdout",
     "output_type": "stream",
     "text": [
      "14/14 [==============================] - 0s 623us/step\n"
     ]
    }
   ],
   "source": [
    "CNN_Preds = CNN.predict(testx)\n",
    "CNN_Preds = np.array([np.argmax(i) for i in CNN_Preds])"
   ]
  },
  {
   "cell_type": "code",
   "execution_count": 15,
   "metadata": {},
   "outputs": [
    {
     "name": "stdout",
     "output_type": "stream",
     "text": [
      "0.9659090909090909\n"
     ]
    }
   ],
   "source": [
    "CNN_Metrics = get_performance_metrics(CNN_Preds)\n",
    "print(CNN_Metrics['acc'])"
   ]
  }
 ],
 "metadata": {
  "kernelspec": {
   "display_name": "Python 3",
   "language": "python",
   "name": "python3"
  },
  "language_info": {
   "codemirror_mode": {
    "name": "ipython",
    "version": 3
   },
   "file_extension": ".py",
   "mimetype": "text/x-python",
   "name": "python",
   "nbconvert_exporter": "python",
   "pygments_lexer": "ipython3",
   "version": "3.10.7"
  },
  "orig_nbformat": 4
 },
 "nbformat": 4,
 "nbformat_minor": 2
}
