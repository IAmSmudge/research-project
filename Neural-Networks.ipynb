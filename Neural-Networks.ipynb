{
 "cells": [
  {
   "cell_type": "code",
   "execution_count": null,
   "metadata": {},
   "outputs": [],
   "source": [
    "import pandas as pd\n",
    "import numpy as np\n",
    "from sklearn.preprocessing import LabelEncoder\n",
    "from keras.models import Sequential\n",
    "from keras.layers import Dense, Conv1D, MaxPooling1D, Flatten\n",
    "from sklearn.metrics import confusion_matrix, ConfusionMatrixDisplay, accuracy_score, f1_score, precision_score, recall_score, roc_auc_score"
   ]
  },
  {
   "cell_type": "code",
   "execution_count": null,
   "metadata": {},
   "outputs": [],
   "source": [
    "#Load Pre-Processed Train / Test Data\n",
    "\n",
    "train_df = pd.read_csv('Train-Data.csv')\n",
    "test_df = pd.read_csv('Test-Data.csv')\n",
    "\n",
    "print(f'Train Length: {len(train_df)}, Test Length: {len(test_df)}')"
   ]
  },
  {
   "cell_type": "code",
   "execution_count": null,
   "metadata": {},
   "outputs": [],
   "source": [
    "#Prepare Data For ML input\n",
    "trainx = np.array(train_df.iloc[:,:-1].values.tolist())\n",
    "trainy = np.array(train_df['label'].tolist())\n",
    "\n",
    "testx = np.array(test_df.iloc[:,:-1].values.tolist())\n",
    "testy = np.array(test_df['label'].tolist())"
   ]
  },
  {
   "cell_type": "code",
   "execution_count": null,
   "metadata": {},
   "outputs": [],
   "source": [
    "#Validate Correct Input Shapes\n",
    "print(f'Trainx: {trainx.shape}, Trainy: {trainy.shape}')\n",
    "print(f'Testx: {testx.shape}, Testy: {testy.shape}')"
   ]
  },
  {
   "cell_type": "code",
   "execution_count": null,
   "metadata": {},
   "outputs": [],
   "source": [
    "#Encode Classification Labels\n",
    "le = LabelEncoder()\n",
    "\n",
    "le.fit(trainy)\n",
    "\n",
    "trainy = le.transform(trainy)\n",
    "testy = le.transform(testy)"
   ]
  },
  {
   "cell_type": "code",
   "execution_count": null,
   "metadata": {},
   "outputs": [],
   "source": [
    "#Build Fully Connected Neural Network Model\n",
    "FCNN = Sequential()\n",
    "FCNN.add(Dense(32, input_dim=7, activation='relu'))\n",
    "FCNN.add(Dense(64, activation='relu'))\n",
    "FCNN.add(Dense(22, activation='softmax'))\n",
    "FCNN.compile(optimizer='adam', loss='sparse_categorical_crossentropy', metrics=['accuracy'])"
   ]
  },
  {
   "cell_type": "code",
   "execution_count": null,
   "metadata": {},
   "outputs": [],
   "source": [
    "FCNN.summary()"
   ]
  },
  {
   "cell_type": "code",
   "execution_count": null,
   "metadata": {},
   "outputs": [],
   "source": [
    "FCNN.fit(trainx, trainy, epochs=50, batch_size=32)"
   ]
  },
  {
   "cell_type": "code",
   "execution_count": null,
   "metadata": {},
   "outputs": [],
   "source": [
    "FCNN_Preds = FCNN.predict(testx)\n",
    "FCNN_Preds = np.array([np.argmax(i) for i in FCNN_Preds])"
   ]
  },
  {
   "cell_type": "code",
   "execution_count": null,
   "metadata": {},
   "outputs": [],
   "source": [
    "def get_performance_metrics(preds):\n",
    "    metrics = {}\n",
    "    metrics['acc'] = accuracy_score(testy, preds)\n",
    "    metrics['prec'] = precision_score(testy, preds, average='macro')\n",
    "    metrics['rec'] = recall_score(testy, preds, average='macro')\n",
    "    metrics['f1'] = f1_score(testy, preds, average='macro')\n",
    "    metrics['cm'] = confusion_matrix(testy, preds)\n",
    "    return metrics"
   ]
  },
  {
   "cell_type": "code",
   "execution_count": null,
   "metadata": {},
   "outputs": [],
   "source": [
    "FCNN_Metrics = get_performance_metrics(FCNN_Preds)\n",
    "print(FCNN_Metrics['acc'])"
   ]
  },
  {
   "cell_type": "code",
   "execution_count": null,
   "metadata": {},
   "outputs": [],
   "source": [
    "#Build CNN\n",
    "CNN = Sequential()\n",
    "CNN.add(Conv1D(filters=32, kernel_size=3, input_shape=(7, 1), activation='relu'))\n",
    "CNN.add(Flatten())\n",
    "CNN.add(Dense(128, activation='relu'))\n",
    "CNN.add(Dense(22, activation='softmax'))\n",
    "CNN.compile(optimizer='adam', loss='sparse_categorical_crossentropy', metrics=['accuracy'])"
   ]
  },
  {
   "cell_type": "code",
   "execution_count": null,
   "metadata": {},
   "outputs": [],
   "source": [
    "trainx_reshaped = trainx.reshape(trainx.shape[0], 7, 1)\n",
    "testx_reshaped = testx.reshape(testx.shape[0], 7, 1)\n",
    "CNN.fit(trainx_reshaped, trainy, epochs=50, batch_size=32)"
   ]
  },
  {
   "cell_type": "code",
   "execution_count": null,
   "metadata": {},
   "outputs": [],
   "source": [
    "CNN_Preds = CNN.predict(testx)\n",
    "CNN_Preds = np.array([np.argmax(i) for i in CNN_Preds])"
   ]
  },
  {
   "cell_type": "code",
   "execution_count": null,
   "metadata": {},
   "outputs": [],
   "source": [
    "CNN_Metrics = get_performance_metrics(CNN_Preds)"
   ]
  }
 ],
 "metadata": {
  "kernelspec": {
   "display_name": "Python 3",
   "language": "python",
   "name": "python3"
  },
  "language_info": {
   "codemirror_mode": {
    "name": "ipython",
    "version": 3
   },
   "file_extension": ".py",
   "mimetype": "text/x-python",
   "name": "python",
   "nbconvert_exporter": "python",
   "pygments_lexer": "ipython3",
   "version": "3.10.7"
  },
  "orig_nbformat": 4
 },
 "nbformat": 4,
 "nbformat_minor": 2
}
