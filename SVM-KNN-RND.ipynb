{
 "cells": [
  {
   "cell_type": "code",
   "execution_count": 1,
   "metadata": {},
   "outputs": [],
   "source": [
    "#Import Required Modules\n",
    "import pandas as pd\n",
    "from sklearn.preprocessing import LabelEncoder\n",
    "from sklearn.svm import SVC\n",
    "from sklearn.neighbors import KNeighborsClassifier\n",
    "from sklearn.ensemble import RandomForestClassifier\n",
    "from sklearn.metrics import confusion_matrix, ConfusionMatrixDisplay, accuracy_score, f1_score, precision_score, recall_score, roc_auc_score"
   ]
  },
  {
   "cell_type": "code",
   "execution_count": 2,
   "metadata": {},
   "outputs": [
    {
     "name": "stdout",
     "output_type": "stream",
     "text": [
      "Train Length: 1760, Test Length: 440\n"
     ]
    }
   ],
   "source": [
    "#Load Pre-Processed Train / Test Data\n",
    "\n",
    "train_df = pd.read_csv('Train-Data.csv')\n",
    "test_df = pd.read_csv('Test-Data.csv')\n",
    "\n",
    "print(f'Train Length: {len(train_df)}, Test Length: {len(test_df)}')"
   ]
  },
  {
   "cell_type": "code",
   "execution_count": 3,
   "metadata": {},
   "outputs": [],
   "source": [
    "#Prepare Data For ML input\n",
    "trainx = train_df.iloc[:,:-1].values.tolist()\n",
    "trainy = train_df['label'].tolist()\n",
    "\n",
    "testx = test_df.iloc[:,:-1].values.tolist()\n",
    "testy = test_df['label'].tolist()"
   ]
  },
  {
   "cell_type": "code",
   "execution_count": 4,
   "metadata": {},
   "outputs": [
    {
     "name": "stdout",
     "output_type": "stream",
     "text": [
      "Trainx: 1760, Trainy: 1760\n",
      "Testx: 440, Testy: 440\n"
     ]
    }
   ],
   "source": [
    "#Validate Correct Input Shapes\n",
    "print(f'Trainx: {len(trainx)}, Trainy: {len(trainy)}')\n",
    "print(f'Testx: {len(testx)}, Testy: {len(testy)}')"
   ]
  },
  {
   "cell_type": "code",
   "execution_count": 5,
   "metadata": {},
   "outputs": [],
   "source": [
    "#Encode Classification Labels\n",
    "le = LabelEncoder()\n",
    "\n",
    "le.fit(trainy)\n",
    "\n",
    "trainy = le.transform(trainy)\n",
    "testy = le.transform(testy)"
   ]
  },
  {
   "cell_type": "code",
   "execution_count": 6,
   "metadata": {},
   "outputs": [],
   "source": [
    "#Support Vector Machine\n",
    "\n",
    "SVM = SVC()\n",
    "SVM.fit(trainx, trainy)\n",
    "SVM_preds = SVM.predict(testx)"
   ]
  },
  {
   "cell_type": "code",
   "execution_count": 7,
   "metadata": {},
   "outputs": [],
   "source": [
    "#Knn Classifier\n",
    "\n",
    "Knn = KNeighborsClassifier()\n",
    "Knn.fit(trainx, trainy)\n",
    "Knn_preds = Knn.predict(testx)"
   ]
  },
  {
   "cell_type": "code",
   "execution_count": 8,
   "metadata": {},
   "outputs": [],
   "source": [
    "#Random Forest Classifier\n",
    "\n",
    "rnd_forest = RandomForestClassifier()\n",
    "rnd_forest.fit(trainx, trainy)\n",
    "rnd_forest_preds = rnd_forest.predict(testx)"
   ]
  },
  {
   "cell_type": "code",
   "execution_count": 9,
   "metadata": {},
   "outputs": [],
   "source": [
    "def get_performance_metrics(preds):\n",
    "    metrics = {}\n",
    "    metrics['acc'] = accuracy_score(testy, preds)\n",
    "    metrics['prec'] = precision_score(testy, preds, average='macro')\n",
    "    metrics['rec'] = recall_score(testy, preds, average='macro')\n",
    "    metrics['f1'] = f1_score(testy, preds, average='macro')\n",
    "    metrics['cm'] = confusion_matrix(testy, preds)\n",
    "    return metrics"
   ]
  }
 ],
 "metadata": {
  "kernelspec": {
   "display_name": "Python 3",
   "language": "python",
   "name": "python3"
  },
  "language_info": {
   "codemirror_mode": {
    "name": "ipython",
    "version": 3
   },
   "file_extension": ".py",
   "mimetype": "text/x-python",
   "name": "python",
   "nbconvert_exporter": "python",
   "pygments_lexer": "ipython3",
   "version": "3.10.7"
  },
  "orig_nbformat": 4
 },
 "nbformat": 4,
 "nbformat_minor": 2
}
